{
  "nbformat": 4,
  "nbformat_minor": 0,
  "metadata": {
    "colab": {
      "name": "KNN.ipynb",
      "provenance": [],
      "collapsed_sections": []
    },
    "kernelspec": {
      "name": "python3",
      "display_name": "Python 3"
    }
  },
  "cells": [
    {
      "cell_type": "code",
      "metadata": {
        "id": "zpOdfR8UGKys",
        "colab_type": "code",
        "colab": {}
      },
      "source": [
        "#importando as bibliotecas necessarias\n",
        "import pandas as pd\n",
        "import numpy as np\n",
        "import seaborn as sns\n",
        "import matplotlib.pyplot as plt\n",
        "import warnings\n",
        "warnings.filterwarnings('ignore')\n",
        "%matplotlib inline"
      ],
      "execution_count": null,
      "outputs": []
    },
    {
      "cell_type": "code",
      "metadata": {
        "id": "Smshvs2VsNqO",
        "colab_type": "code",
        "colab": {}
      },
      "source": [
        "#uma variavel que recebe o arquivo csv \n",
        "arquivo = ('iris.csv')"
      ],
      "execution_count": null,
      "outputs": []
    },
    {
      "cell_type": "code",
      "metadata": {
        "id": "eAMxwcPeGdXd",
        "colab_type": "code",
        "colab": {}
      },
      "source": [
        "#lendo o arquivo iris\n",
        "iris = pd.read_csv(arquivo)"
      ],
      "execution_count": null,
      "outputs": []
    },
    {
      "cell_type": "code",
      "metadata": {
        "id": "REkdyn8xGdaI",
        "colab_type": "code",
        "colab": {
          "base_uri": "https://localhost:8080/",
          "height": 204
        },
        "outputId": "72269d59-b91e-4f67-ec61-b915c3be6607"
      },
      "source": [
        "#exibindo as 5 primeiras linhas do arquivo iris\n",
        "iris.head()"
      ],
      "execution_count": null,
      "outputs": [
        {
          "output_type": "execute_result",
          "data": {
            "text/html": [
              "<div>\n",
              "<style scoped>\n",
              "    .dataframe tbody tr th:only-of-type {\n",
              "        vertical-align: middle;\n",
              "    }\n",
              "\n",
              "    .dataframe tbody tr th {\n",
              "        vertical-align: top;\n",
              "    }\n",
              "\n",
              "    .dataframe thead th {\n",
              "        text-align: right;\n",
              "    }\n",
              "</style>\n",
              "<table border=\"1\" class=\"dataframe\">\n",
              "  <thead>\n",
              "    <tr style=\"text-align: right;\">\n",
              "      <th></th>\n",
              "      <th>SepalLength</th>\n",
              "      <th>SepalWidth</th>\n",
              "      <th>PetalLength</th>\n",
              "      <th>PetalWidth</th>\n",
              "      <th>Species</th>\n",
              "    </tr>\n",
              "  </thead>\n",
              "  <tbody>\n",
              "    <tr>\n",
              "      <th>0</th>\n",
              "      <td>5.1</td>\n",
              "      <td>3.5</td>\n",
              "      <td>1.4</td>\n",
              "      <td>0.2</td>\n",
              "      <td>Iris-setosa</td>\n",
              "    </tr>\n",
              "    <tr>\n",
              "      <th>1</th>\n",
              "      <td>4.9</td>\n",
              "      <td>3.0</td>\n",
              "      <td>1.4</td>\n",
              "      <td>0.2</td>\n",
              "      <td>Iris-setosa</td>\n",
              "    </tr>\n",
              "    <tr>\n",
              "      <th>2</th>\n",
              "      <td>4.7</td>\n",
              "      <td>3.2</td>\n",
              "      <td>1.3</td>\n",
              "      <td>0.2</td>\n",
              "      <td>Iris-setosa</td>\n",
              "    </tr>\n",
              "    <tr>\n",
              "      <th>3</th>\n",
              "      <td>4.6</td>\n",
              "      <td>3.1</td>\n",
              "      <td>1.5</td>\n",
              "      <td>0.2</td>\n",
              "      <td>Iris-setosa</td>\n",
              "    </tr>\n",
              "    <tr>\n",
              "      <th>4</th>\n",
              "      <td>5.0</td>\n",
              "      <td>3.6</td>\n",
              "      <td>1.4</td>\n",
              "      <td>0.2</td>\n",
              "      <td>Iris-setosa</td>\n",
              "    </tr>\n",
              "  </tbody>\n",
              "</table>\n",
              "</div>"
            ],
            "text/plain": [
              "   SepalLength  SepalWidth  PetalLength  PetalWidth      Species\n",
              "0          5.1         3.5          1.4         0.2  Iris-setosa\n",
              "1          4.9         3.0          1.4         0.2  Iris-setosa\n",
              "2          4.7         3.2          1.3         0.2  Iris-setosa\n",
              "3          4.6         3.1          1.5         0.2  Iris-setosa\n",
              "4          5.0         3.6          1.4         0.2  Iris-setosa"
            ]
          },
          "metadata": {
            "tags": []
          },
          "execution_count": 23
        }
      ]
    },
    {
      "cell_type": "code",
      "metadata": {
        "id": "9_lTx4UyGdcn",
        "colab_type": "code",
        "colab": {
          "base_uri": "https://localhost:8080/",
          "height": 221
        },
        "outputId": "007992a0-adea-4d6e-927d-1cc7a9b76ab4"
      },
      "source": [
        "#mostrando as informações de iris\n",
        "iris.info()"
      ],
      "execution_count": null,
      "outputs": [
        {
          "output_type": "stream",
          "text": [
            "<class 'pandas.core.frame.DataFrame'>\n",
            "RangeIndex: 150 entries, 0 to 149\n",
            "Data columns (total 5 columns):\n",
            " #   Column       Non-Null Count  Dtype  \n",
            "---  ------       --------------  -----  \n",
            " 0   SepalLength  150 non-null    float64\n",
            " 1   SepalWidth   150 non-null    float64\n",
            " 2   PetalLength  150 non-null    float64\n",
            " 3   PetalWidth   150 non-null    float64\n",
            " 4   Species      150 non-null    object \n",
            "dtypes: float64(4), object(1)\n",
            "memory usage: 6.0+ KB\n"
          ],
          "name": "stdout"
        }
      ]
    },
    {
      "cell_type": "code",
      "metadata": {
        "id": "OZPWSgLYJH5S",
        "colab_type": "code",
        "colab": {
          "base_uri": "https://localhost:8080/",
          "height": 297
        },
        "outputId": "2633ad4b-82b4-422c-83a0-c19264ca4812"
      },
      "source": [
        "#usando o metodo describe() para descrever as colunas de iris\n",
        "iris.describe()"
      ],
      "execution_count": null,
      "outputs": [
        {
          "output_type": "execute_result",
          "data": {
            "text/html": [
              "<div>\n",
              "<style scoped>\n",
              "    .dataframe tbody tr th:only-of-type {\n",
              "        vertical-align: middle;\n",
              "    }\n",
              "\n",
              "    .dataframe tbody tr th {\n",
              "        vertical-align: top;\n",
              "    }\n",
              "\n",
              "    .dataframe thead th {\n",
              "        text-align: right;\n",
              "    }\n",
              "</style>\n",
              "<table border=\"1\" class=\"dataframe\">\n",
              "  <thead>\n",
              "    <tr style=\"text-align: right;\">\n",
              "      <th></th>\n",
              "      <th>SepalLength</th>\n",
              "      <th>SepalWidth</th>\n",
              "      <th>PetalLength</th>\n",
              "      <th>PetalWidth</th>\n",
              "    </tr>\n",
              "  </thead>\n",
              "  <tbody>\n",
              "    <tr>\n",
              "      <th>count</th>\n",
              "      <td>150.000000</td>\n",
              "      <td>150.000000</td>\n",
              "      <td>150.000000</td>\n",
              "      <td>150.000000</td>\n",
              "    </tr>\n",
              "    <tr>\n",
              "      <th>mean</th>\n",
              "      <td>5.843333</td>\n",
              "      <td>3.054000</td>\n",
              "      <td>3.758667</td>\n",
              "      <td>1.198667</td>\n",
              "    </tr>\n",
              "    <tr>\n",
              "      <th>std</th>\n",
              "      <td>0.828066</td>\n",
              "      <td>0.433594</td>\n",
              "      <td>1.764420</td>\n",
              "      <td>0.763161</td>\n",
              "    </tr>\n",
              "    <tr>\n",
              "      <th>min</th>\n",
              "      <td>4.300000</td>\n",
              "      <td>2.000000</td>\n",
              "      <td>1.000000</td>\n",
              "      <td>0.100000</td>\n",
              "    </tr>\n",
              "    <tr>\n",
              "      <th>25%</th>\n",
              "      <td>5.100000</td>\n",
              "      <td>2.800000</td>\n",
              "      <td>1.600000</td>\n",
              "      <td>0.300000</td>\n",
              "    </tr>\n",
              "    <tr>\n",
              "      <th>50%</th>\n",
              "      <td>5.800000</td>\n",
              "      <td>3.000000</td>\n",
              "      <td>4.350000</td>\n",
              "      <td>1.300000</td>\n",
              "    </tr>\n",
              "    <tr>\n",
              "      <th>75%</th>\n",
              "      <td>6.400000</td>\n",
              "      <td>3.300000</td>\n",
              "      <td>5.100000</td>\n",
              "      <td>1.800000</td>\n",
              "    </tr>\n",
              "    <tr>\n",
              "      <th>max</th>\n",
              "      <td>7.900000</td>\n",
              "      <td>4.400000</td>\n",
              "      <td>6.900000</td>\n",
              "      <td>2.500000</td>\n",
              "    </tr>\n",
              "  </tbody>\n",
              "</table>\n",
              "</div>"
            ],
            "text/plain": [
              "       SepalLength  SepalWidth  PetalLength  PetalWidth\n",
              "count   150.000000  150.000000   150.000000  150.000000\n",
              "mean      5.843333    3.054000     3.758667    1.198667\n",
              "std       0.828066    0.433594     1.764420    0.763161\n",
              "min       4.300000    2.000000     1.000000    0.100000\n",
              "25%       5.100000    2.800000     1.600000    0.300000\n",
              "50%       5.800000    3.000000     4.350000    1.300000\n",
              "75%       6.400000    3.300000     5.100000    1.800000\n",
              "max       7.900000    4.400000     6.900000    2.500000"
            ]
          },
          "metadata": {
            "tags": []
          },
          "execution_count": 25
        }
      ]
    },
    {
      "cell_type": "code",
      "metadata": {
        "id": "OuI_QM_YJICj",
        "colab_type": "code",
        "colab": {}
      },
      "source": [
        "#dividindo os dados em treino e teste\n",
        "from sklearn.model_selection import train_test_split\n",
        "x_train, x_test, y_train, y_test = train_test_split(\n",
        "                                                    iris.drop('Species',axis=1),\n",
        "                                                    iris['Species'],\n",
        "                                                    test_size=0.3\n",
        "                                                    )"
      ],
      "execution_count": null,
      "outputs": []
    },
    {
      "cell_type": "code",
      "metadata": {
        "id": "WyoHAVI7JIIj",
        "colab_type": "code",
        "colab": {
          "base_uri": "https://localhost:8080/",
          "height": 34
        },
        "outputId": "4c1b753d-8a69-4ab5-8d76-87ef4b54fce2"
      },
      "source": [
        "#verificando a forma dos dados x\n",
        "x_train.shape, x_test.shape"
      ],
      "execution_count": null,
      "outputs": [
        {
          "output_type": "execute_result",
          "data": {
            "text/plain": [
              "((105, 4), (45, 4))"
            ]
          },
          "metadata": {
            "tags": []
          },
          "execution_count": 27
        }
      ]
    },
    {
      "cell_type": "code",
      "metadata": {
        "id": "KZAH-RPasxrS",
        "colab_type": "code",
        "colab": {
          "base_uri": "https://localhost:8080/",
          "height": 255
        },
        "outputId": "0fce7b16-4b3a-4a8d-e8a6-0c757af0aca0"
      },
      "source": [
        "print(x_train)"
      ],
      "execution_count": null,
      "outputs": [
        {
          "output_type": "stream",
          "text": [
            "     SepalLength  SepalWidth  PetalLength  PetalWidth\n",
            "104          6.5         3.0          5.8         2.2\n",
            "27           5.2         3.5          1.5         0.2\n",
            "20           5.4         3.4          1.7         0.2\n",
            "82           5.8         2.7          3.9         1.2\n",
            "84           5.4         3.0          4.5         1.5\n",
            "..           ...         ...          ...         ...\n",
            "15           5.7         4.4          1.5         0.4\n",
            "19           5.1         3.8          1.5         0.3\n",
            "5            5.4         3.9          1.7         0.4\n",
            "131          7.9         3.8          6.4         2.0\n",
            "60           5.0         2.0          3.5         1.0\n",
            "\n",
            "[105 rows x 4 columns]\n"
          ],
          "name": "stdout"
        }
      ]
    },
    {
      "cell_type": "code",
      "metadata": {
        "id": "RnhPMg1stF2C",
        "colab_type": "code",
        "colab": {
          "base_uri": "https://localhost:8080/",
          "height": 799
        },
        "outputId": "36ecd9a9-8e96-4e80-cc52-afa138d49a81"
      },
      "source": [
        "print(x_test)"
      ],
      "execution_count": null,
      "outputs": [
        {
          "output_type": "stream",
          "text": [
            "     SepalLength  SepalWidth  PetalLength  PetalWidth\n",
            "77           6.7         3.0          5.0         1.7\n",
            "108          6.7         2.5          5.8         1.8\n",
            "41           4.5         2.3          1.3         0.3\n",
            "143          6.8         3.2          5.9         2.3\n",
            "9            4.9         3.1          1.5         0.1\n",
            "105          7.6         3.0          6.6         2.1\n",
            "65           6.7         3.1          4.4         1.4\n",
            "45           4.8         3.0          1.4         0.3\n",
            "137          6.4         3.1          5.5         1.8\n",
            "72           6.3         2.5          4.9         1.5\n",
            "149          5.9         3.0          5.1         1.8\n",
            "148          6.2         3.4          5.4         2.3\n",
            "37           4.9         3.1          1.5         0.1\n",
            "40           5.0         3.5          1.3         0.3\n",
            "145          6.7         3.0          5.2         2.3\n",
            "42           4.4         3.2          1.3         0.2\n",
            "66           5.6         3.0          4.5         1.5\n",
            "76           6.8         2.8          4.8         1.4\n",
            "78           6.0         2.9          4.5         1.5\n",
            "11           4.8         3.4          1.6         0.2\n",
            "106          4.9         2.5          4.5         1.7\n",
            "24           4.8         3.4          1.9         0.2\n",
            "91           6.1         3.0          4.6         1.4\n",
            "68           6.2         2.2          4.5         1.5\n",
            "35           5.0         3.2          1.2         0.2\n",
            "125          7.2         3.2          6.0         1.8\n",
            "101          5.8         2.7          5.1         1.9\n",
            "52           6.9         3.1          4.9         1.5\n",
            "44           5.1         3.8          1.9         0.4\n",
            "98           5.1         2.5          3.0         1.1\n",
            "117          7.7         3.8          6.7         2.2\n",
            "38           4.4         3.0          1.3         0.2\n",
            "129          7.2         3.0          5.8         1.6\n",
            "116          6.5         3.0          5.5         1.8\n",
            "7            5.0         3.4          1.5         0.2\n",
            "2            4.7         3.2          1.3         0.2\n",
            "21           5.1         3.7          1.5         0.4\n",
            "18           5.7         3.8          1.7         0.3\n",
            "28           5.2         3.4          1.4         0.2\n",
            "33           5.5         4.2          1.4         0.2\n",
            "26           5.0         3.4          1.6         0.4\n",
            "75           6.6         3.0          4.4         1.4\n",
            "4            5.0         3.6          1.4         0.2\n",
            "8            4.4         2.9          1.4         0.2\n",
            "147          6.5         3.0          5.2         2.0\n"
          ],
          "name": "stdout"
        }
      ]
    },
    {
      "cell_type": "code",
      "metadata": {
        "id": "mzric8TnJILb",
        "colab_type": "code",
        "colab": {
          "base_uri": "https://localhost:8080/",
          "height": 34
        },
        "outputId": "d0a0616d-6ccf-4301-8a29-3442e37e7fdb"
      },
      "source": [
        "#verificando a forma dos dados y\n",
        "y_train.shape, y_train.shape"
      ],
      "execution_count": null,
      "outputs": [
        {
          "output_type": "execute_result",
          "data": {
            "text/plain": [
              "((105,), (105,))"
            ]
          },
          "metadata": {
            "tags": []
          },
          "execution_count": 30
        }
      ]
    },
    {
      "cell_type": "code",
      "metadata": {
        "id": "x0iQI-u1s9e0",
        "colab_type": "code",
        "colab": {
          "base_uri": "https://localhost:8080/",
          "height": 221
        },
        "outputId": "b7a5e691-ef0d-4824-c252-8114ff2348f0"
      },
      "source": [
        "print(y_train)"
      ],
      "execution_count": null,
      "outputs": [
        {
          "output_type": "stream",
          "text": [
            "104     Iris-virginica\n",
            "27         Iris-setosa\n",
            "20         Iris-setosa\n",
            "82     Iris-versicolor\n",
            "84     Iris-versicolor\n",
            "            ...       \n",
            "15         Iris-setosa\n",
            "19         Iris-setosa\n",
            "5          Iris-setosa\n",
            "131     Iris-virginica\n",
            "60     Iris-versicolor\n",
            "Name: Species, Length: 105, dtype: object\n"
          ],
          "name": "stdout"
        }
      ]
    },
    {
      "cell_type": "code",
      "metadata": {
        "id": "i99bzdSJtQPj",
        "colab_type": "code",
        "colab": {
          "base_uri": "https://localhost:8080/",
          "height": 799
        },
        "outputId": "4af27b35-1a83-443a-e0a5-2c32b0f77622"
      },
      "source": [
        "print(y_test)"
      ],
      "execution_count": null,
      "outputs": [
        {
          "output_type": "stream",
          "text": [
            "77     Iris-versicolor\n",
            "108     Iris-virginica\n",
            "41         Iris-setosa\n",
            "143     Iris-virginica\n",
            "9          Iris-setosa\n",
            "105     Iris-virginica\n",
            "65     Iris-versicolor\n",
            "45         Iris-setosa\n",
            "137     Iris-virginica\n",
            "72     Iris-versicolor\n",
            "149     Iris-virginica\n",
            "148     Iris-virginica\n",
            "37         Iris-setosa\n",
            "40         Iris-setosa\n",
            "145     Iris-virginica\n",
            "42         Iris-setosa\n",
            "66     Iris-versicolor\n",
            "76     Iris-versicolor\n",
            "78     Iris-versicolor\n",
            "11         Iris-setosa\n",
            "106     Iris-virginica\n",
            "24         Iris-setosa\n",
            "91     Iris-versicolor\n",
            "68     Iris-versicolor\n",
            "35         Iris-setosa\n",
            "125     Iris-virginica\n",
            "101     Iris-virginica\n",
            "52     Iris-versicolor\n",
            "44         Iris-setosa\n",
            "98     Iris-versicolor\n",
            "117     Iris-virginica\n",
            "38         Iris-setosa\n",
            "129     Iris-virginica\n",
            "116     Iris-virginica\n",
            "7          Iris-setosa\n",
            "2          Iris-setosa\n",
            "21         Iris-setosa\n",
            "18         Iris-setosa\n",
            "28         Iris-setosa\n",
            "33         Iris-setosa\n",
            "26         Iris-setosa\n",
            "75     Iris-versicolor\n",
            "4          Iris-setosa\n",
            "8          Iris-setosa\n",
            "147     Iris-virginica\n",
            "Name: Species, dtype: object\n"
          ],
          "name": "stdout"
        }
      ]
    },
    {
      "cell_type": "code",
      "metadata": {
        "id": "NK-TtyH3JIOB",
        "colab_type": "code",
        "colab": {}
      },
      "source": [
        "#instanciando o algoritimo\n",
        "from sklearn.neighbors import KNeighborsClassifier\n",
        "knn = KNeighborsClassifier(n_neighbors=3)"
      ],
      "execution_count": null,
      "outputs": []
    },
    {
      "cell_type": "code",
      "metadata": {
        "id": "U78rl-oNGdkA",
        "colab_type": "code",
        "colab": {
          "base_uri": "https://localhost:8080/",
          "height": 68
        },
        "outputId": "fcb33a15-9659-4bcb-8d63-446b035bf8c0"
      },
      "source": [
        "#treinado o meu algoritimo\n",
        "knn.fit(x_train, y_train)"
      ],
      "execution_count": null,
      "outputs": [
        {
          "output_type": "execute_result",
          "data": {
            "text/plain": [
              "KNeighborsClassifier(algorithm='auto', leaf_size=30, metric='minkowski',\n",
              "                     metric_params=None, n_jobs=None, n_neighbors=3, p=2,\n",
              "                     weights='uniform')"
            ]
          },
          "metadata": {
            "tags": []
          },
          "execution_count": 34
        }
      ]
    },
    {
      "cell_type": "code",
      "metadata": {
        "id": "Z9e7T8BtGdmo",
        "colab_type": "code",
        "colab": {
          "base_uri": "https://localhost:8080/",
          "height": 255
        },
        "outputId": "070993a6-1c10-475b-84f9-ecde3ba7d838"
      },
      "source": [
        "resultado = knn.predict(x_test)\n",
        "resultado"
      ],
      "execution_count": null,
      "outputs": [
        {
          "output_type": "execute_result",
          "data": {
            "text/plain": [
              "array(['Iris-virginica', 'Iris-virginica', 'Iris-setosa',\n",
              "       'Iris-virginica', 'Iris-setosa', 'Iris-virginica',\n",
              "       'Iris-versicolor', 'Iris-setosa', 'Iris-virginica',\n",
              "       'Iris-virginica', 'Iris-virginica', 'Iris-virginica',\n",
              "       'Iris-setosa', 'Iris-setosa', 'Iris-virginica', 'Iris-setosa',\n",
              "       'Iris-versicolor', 'Iris-versicolor', 'Iris-versicolor',\n",
              "       'Iris-setosa', 'Iris-versicolor', 'Iris-setosa', 'Iris-versicolor',\n",
              "       'Iris-versicolor', 'Iris-setosa', 'Iris-virginica',\n",
              "       'Iris-virginica', 'Iris-versicolor', 'Iris-setosa',\n",
              "       'Iris-versicolor', 'Iris-virginica', 'Iris-setosa',\n",
              "       'Iris-virginica', 'Iris-virginica', 'Iris-setosa', 'Iris-setosa',\n",
              "       'Iris-setosa', 'Iris-setosa', 'Iris-setosa', 'Iris-setosa',\n",
              "       'Iris-setosa', 'Iris-versicolor', 'Iris-setosa', 'Iris-setosa',\n",
              "       'Iris-virginica'], dtype=object)"
            ]
          },
          "metadata": {
            "tags": []
          },
          "execution_count": 35
        }
      ]
    },
    {
      "cell_type": "code",
      "metadata": {
        "id": "YpUwzx9QGdVO",
        "colab_type": "code",
        "colab": {}
      },
      "source": [
        "#execultando uma nova amostra para fazer um pequeno teste\n",
        "test = np.array([[5.1, 3.5, 1.4, 0.2]])"
      ],
      "execution_count": null,
      "outputs": []
    },
    {
      "cell_type": "code",
      "metadata": {
        "id": "FTPytZTqpyOJ",
        "colab_type": "code",
        "colab": {
          "base_uri": "https://localhost:8080/",
          "height": 34
        },
        "outputId": "eda392e1-2845-437b-9844-fe0117e09c98"
      },
      "source": [
        "knn.predict(test), knn.predict_proba(test)"
      ],
      "execution_count": null,
      "outputs": [
        {
          "output_type": "execute_result",
          "data": {
            "text/plain": [
              "(array(['Iris-setosa'], dtype=object), array([[1., 0., 0.]]))"
            ]
          },
          "metadata": {
            "tags": []
          },
          "execution_count": 37
        }
      ]
    },
    {
      "cell_type": "code",
      "metadata": {
        "id": "uXK3JhbopyVt",
        "colab_type": "code",
        "colab": {
          "base_uri": "https://localhost:8080/",
          "height": 119
        },
        "outputId": "4a732085-1d93-409f-97ac-acd03f5db389"
      },
      "source": [
        "#validando o nosso modelo com a matrix de confusão\n",
        "print (\n",
        "    pd.crosstab(\n",
        "    y_test,\n",
        "    resultado, \n",
        "    rownames=['Real'], \n",
        "    colnames=['          Predito'], \n",
        "    margins=True))"
      ],
      "execution_count": null,
      "outputs": [
        {
          "output_type": "stream",
          "text": [
            "          Predito  Iris-setosa  Iris-versicolor  Iris-virginica  All\n",
            "Real                                                                \n",
            "Iris-setosa                 20                0               0   20\n",
            "Iris-versicolor              0                9               2   11\n",
            "Iris-virginica               0                1              13   14\n",
            "All                         20               10              15   45\n"
          ],
          "name": "stdout"
        }
      ]
    },
    {
      "cell_type": "code",
      "metadata": {
        "id": "uvBsNB8gpyaW",
        "colab_type": "code",
        "colab": {}
      },
      "source": [
        "from sklearn import metrics"
      ],
      "execution_count": null,
      "outputs": []
    },
    {
      "cell_type": "code",
      "metadata": {
        "id": "VRDjs0sKpycv",
        "colab_type": "code",
        "colab": {
          "base_uri": "https://localhost:8080/",
          "height": 187
        },
        "outputId": "3ce872fe-4e17-49c5-b477-e4b74c274cf9"
      },
      "source": [
        "#metrica de validação\n",
        "print(metrics.classification_report(\n",
        "                                    y_test, \n",
        "                                    resultado, \n",
        "                                    target_names=iris['Species'].unique()\n",
        "                                    ))"
      ],
      "execution_count": null,
      "outputs": [
        {
          "output_type": "stream",
          "text": [
            "                 precision    recall  f1-score   support\n",
            "\n",
            "    Iris-setosa       1.00      1.00      1.00        20\n",
            "Iris-versicolor       0.90      0.82      0.86        11\n",
            " Iris-virginica       0.87      0.93      0.90        14\n",
            "\n",
            "       accuracy                           0.93        45\n",
            "      macro avg       0.92      0.92      0.92        45\n",
            "   weighted avg       0.93      0.93      0.93        45\n",
            "\n"
          ],
          "name": "stdout"
        }
      ]
    },
    {
      "cell_type": "code",
      "metadata": {
        "id": "Ssv8Hl01pyen",
        "colab_type": "code",
        "colab": {}
      },
      "source": [
        ""
      ],
      "execution_count": null,
      "outputs": []
    },
    {
      "cell_type": "code",
      "metadata": {
        "id": "kYRi45l7pyUE",
        "colab_type": "code",
        "colab": {}
      },
      "source": [
        ""
      ],
      "execution_count": null,
      "outputs": []
    },
    {
      "cell_type": "code",
      "metadata": {
        "id": "jkSBY8wNpyRs",
        "colab_type": "code",
        "colab": {}
      },
      "source": [
        ""
      ],
      "execution_count": null,
      "outputs": []
    }
  ]
}